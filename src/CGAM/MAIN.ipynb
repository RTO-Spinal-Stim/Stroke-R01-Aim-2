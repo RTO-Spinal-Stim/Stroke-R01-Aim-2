{
 "cells": [
  {
   "cell_type": "code",
   "execution_count": null,
   "id": "fd950780",
   "metadata": {},
   "outputs": [],
   "source": [
    "from run_CGAM_pipeline import run_CGAM_pipeline\n",
    "from run_Labeling_pipeline import run_labeling_pipeline\n",
    "from run_ML_inputs_pipeline import run_preprocessing_pipeline\n",
    "\n",
    "\n"
   ]
  },
  {
   "cell_type": "code",
   "execution_count": null,
   "id": "cb43d533",
   "metadata": {},
   "outputs": [],
   "source": [
    "# Initialize Data Path's for CGAM and Cohen's d calculations\n",
    "matched_cycles_data_path = r\"..\\..\\SavedOutcomesAim2\\Overground_EMG_Kinematics\\1_FromMATLAB_Sym\\matchedCycles.csv\"\n",
    "\n",
    "# Run CGAM and Cohen's d calculations\n",
    "cgam_df, cohens_df, filtered_df = run_CGAM_pipeline(\n",
    "    data_path=matched_cycles_data_path, \n",
    "    speed = 'FV',\n",
    "    feature_type='all', # Options: 'all', 'gait', 'joint', 'emg' [Select feature type to include in CGAM]\n",
    "    time_order = [\"BL\",\"MID18\",\"MID24\",\"POST18\",\"POST24\"],\n",
    "    comparison=\"sequential\") # Options: 'sequential' = only compare consecutive timepoints (BL→MID18→...), 'pair' = all possible combinations (BL→MID18, BL→POST24, etc.)\n",
    "\n",
    "\n",
    "CGAM_export = False # Flag to control export of results\n",
    "if CGAM_export:\n",
    "    # Export CGAM and Cohen's d results\n",
    "    cgam_df.to_csv(r\"..\\..\\SavedOutcomesAim2\\Overground_EMG_Kinematics\\2_FromPython_CGAM\\matchedCyclesCGAM.csv\", index=False)\n",
    "    print(\"CGAM results exported successfully.\")\n",
    "    cohens_df.to_csv(r\"..\\..\\SavedOutcomesAim2\\Overground_EMG_Kinematics\\2_FromPython_CGAM\\matchedCyclesCGAMCohens.csv\", index=False)\n",
    "    print(\"Cohen's d results exported successfully.\")\n",
    "else:\n",
    "    print(\"CGAM and Cohen's d results not exported. Set CGAM_export to True to enable export.\")"
   ]
  }
 ],
 "metadata": {
  "kernelspec": {
   "display_name": "Python (MAIN_ENV)",
   "language": "python",
   "name": "main_env"
  },
  "language_info": {
   "codemirror_mode": {
    "name": "ipython",
    "version": 3
   },
   "file_extension": ".py",
   "mimetype": "text/x-python",
   "name": "python",
   "nbconvert_exporter": "python",
   "pygments_lexer": "ipython3",
   "version": "3.13.5"
  }
 },
 "nbformat": 4,
 "nbformat_minor": 5
}
