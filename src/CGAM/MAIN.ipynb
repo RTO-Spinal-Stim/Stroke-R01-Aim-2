{
 "cells": [
  {
   "cell_type": "code",
   "execution_count": 1,
   "id": "fd950780",
   "metadata": {},
   "outputs": [],
   "source": [
    "from run_CGAM_pipeline import run_CGAM_pipeline\n",
    "from run_Labeling_pipeline import run_labeling_pipeline\n",
    "from run_ML_inputs_pipeline import run_preprocessing_pipeline\n",
    "\n",
    "\n"
   ]
  },
  {
   "cell_type": "code",
   "execution_count": 2,
   "id": "cb43d533",
   "metadata": {},
   "outputs": [
    {
     "name": "stdout",
     "output_type": "stream",
     "text": [
      "Missing data detected:\n",
      "HAM_RMSE_EMG             54\n",
      "MG_RMSE_EMG              26\n",
      "RF_RMSE_EMG              54\n",
      "TA_RMSE_EMG              26\n",
      "VL_RMSE_EMG              54\n",
      "HAM_Mag_EMG_CrossCorr    54\n",
      "MG_Mag_EMG_CrossCorr     26\n",
      "RF_Mag_EMG_CrossCorr     54\n",
      "TA_Mag_EMG_CrossCorr     26\n",
      "VL_Mag_EMG_CrossCorr     54\n",
      "HAM_AUC_EMG_Sym          54\n",
      "HAM_RMS_EMG_Sym          54\n",
      "MG_AUC_EMG_Sym           26\n",
      "MG_RMS_EMG_Sym           26\n",
      "NumSynergies_Sym         54\n",
      "RF_AUC_EMG_Sym           54\n",
      "RF_RMS_EMG_Sym           54\n",
      "TA_AUC_EMG_Sym           26\n",
      "TA_RMS_EMG_Sym           26\n",
      "VL_AUC_EMG_Sym           54\n",
      "VL_RMS_EMG_Sym           54\n",
      "dtype: int64\n",
      "Data loaded and filtered: Speed=FV\n",
      "Starting VIF computation...\n",
      "Dropping 'SwingPhasePerc_GR_Sym' with VIF=31.69\n",
      "Dropping 'StepLengths_GR_Sym' with VIF=23.53\n",
      "Dropping 'SwingDurations_GR_Sym' with VIF=14.34\n",
      "Calculating CGAM...\n",
      "Warning: Matrix is ill-conditioned\n",
      "Skipped group: ('SS10', 'POST24', 'FV') (only 26 strides)\n",
      "Group ('SS10', 'POST24', 'FV') | strides=26 | cond=inf\n",
      "Feature variances: {'ANKLE_JointAngles_Range_Sym': 82.260618, 'ANKLE_MaxPeakIndex_JointAngles_Sym': 24.335315, 'ANKLE_MinPeakIndex_JointAngles_Sym': 8.458621, 'ANKLE_RMS_JointAngles_Sym': 126.524282, 'HAM_MaxPeakIndex_EMG_Sym': 0.0, 'HIP_JointAngles_Range_Sym': 33.454037, 'HIP_MaxPeakIndex_JointAngles_Sym': 2452.881274, 'HIP_MinPeakIndex_JointAngles_Sym': 104.931895, 'HIP_RMS_JointAngles_Sym': 20.896828, 'KNEE_JointAngles_Range_Sym': 59.668892, 'KNEE_MaxPeakIndex_JointAngles_Sym': 1199.829345, 'KNEE_MinPeakIndex_JointAngles_Sym': 8818.835549, 'KNEE_RMS_JointAngles_Sym': 74.201881, 'MG_MaxPeakIndex_EMG_Sym': 0.0, 'RF_MaxPeakIndex_EMG_Sym': 0.0, 'StancePhasePerc_GR_Sym': 36.807009, 'StepDurations_GR_Sym': 18.343585, 'StepWidths_GR_Sym': 48.269402, 'StrideDurations_GR_Sym': 2.226985, 'StrideLengths_GR_Sym': 6.378216, 'StrideVelocities_GR_Sym': 4.321524, 'TA_MaxPeakIndex_EMG_Sym': 0.0, 'VL_MaxPeakIndex_EMG_Sym': 0.0}\n",
      "CGAM calculation complete.\n",
      "Calculating Cohen's d across interventions...\n",
      "Using timepoints: ['BL', 'MID18', 'MID24', 'POST18', 'POST24'] | Comparison: sequential\n",
      "Cohen's d calculation complete.\n",
      "CGAM results exported successfully.\n",
      "Cohen's d results exported successfully.\n"
     ]
    }
   ],
   "source": [
    "# Initialize Data Path's for CGAM and Cohen's d calculations\n",
    "matched_cycles_data_path = r\"..\\..\\SavedOutcomesAim2\\Overground_EMG_Kinematics\\1_FromMATLAB_Sym\\matchedCycles.csv\"\n",
    "\n",
    "# Run CGAM and Cohen's d calculations\n",
    "cgam_df, cohens_df, filtered_df = run_CGAM_pipeline(\n",
    "    data_path=matched_cycles_data_path, \n",
    "    speed = 'FV',\n",
    "    feature_type='all', # Options: 'all', 'gait', 'joint', 'emg' [Select feature type to include in CGAM]\n",
    "    time_order = [\"BL\",\"MID18\",\"MID24\",\"POST18\",\"POST24\"],\n",
    "    comparison=\"sequential\") # Options: 'sequential' = only compare consecutive timepoints (BL→MID18→...), 'pair' = all possible combinations (BL→MID18, BL→POST24, etc.)\n",
    "\n",
    "\n",
    "CGAM_export = True # Flag to control export of results\n",
    "if CGAM_export:\n",
    "    # Export CGAM and Cohen's d results\n",
    "    cgam_df.to_csv(r\"..\\..\\SavedOutcomesAim2\\Overground_EMG_Kinematics\\2_FromPython_CGAM\\matchedCyclesCGAM.csv\", index=False)\n",
    "    print(\"CGAM results exported successfully.\")\n",
    "    cohens_df.to_csv(r\"..\\..\\SavedOutcomesAim2\\Overground_EMG_Kinematics\\2_FromPython_CGAM\\matchedCyclesCGAMCohens.csv\", index=False)\n",
    "    print(\"Cohen's d results exported successfully.\")\n",
    "else:\n",
    "    print(\"CGAM and Cohen's d results not exported. Set CGAM_export to True to enable export.\")"
   ]
  },
  {
   "cell_type": "code",
   "execution_count": null,
   "id": "720cc1af",
   "metadata": {},
   "outputs": [],
   "source": []
  }
 ],
 "metadata": {
  "kernelspec": {
   "display_name": "Python (MAIN_ENV)",
   "language": "python",
   "name": "main_env"
  },
  "language_info": {
   "codemirror_mode": {
    "name": "ipython",
    "version": 3
   },
   "file_extension": ".py",
   "mimetype": "text/x-python",
   "name": "python",
   "nbconvert_exporter": "python",
   "pygments_lexer": "ipython3",
   "version": "3.13.5"
  }
 },
 "nbformat": 4,
 "nbformat_minor": 5
}
